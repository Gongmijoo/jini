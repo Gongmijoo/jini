{
  "nbformat": 4,
  "nbformat_minor": 0,
  "metadata": {
    "colab": {
      "provenance": [],
      "authorship_tag": "ABX9TyONERtCaJ2/ET2mDEU3YKwF",
      "include_colab_link": true
    },
    "kernelspec": {
      "name": "python3",
      "display_name": "Python 3"
    },
    "language_info": {
      "name": "python"
    }
  },
  "cells": [
    {
      "cell_type": "markdown",
      "metadata": {
        "id": "view-in-github",
        "colab_type": "text"
      },
      "source": [
        "<a href=\"https://colab.research.google.com/github/Gongmijoo/jini/blob/main/Untitled1.ipynb\" target=\"_parent\"><img src=\"https://colab.research.google.com/assets/colab-badge.svg\" alt=\"Open In Colab\"/></a>"
      ]
    },
    {
      "cell_type": "code",
      "execution_count": 1,
      "metadata": {
        "colab": {
          "base_uri": "https://localhost:8080/"
        },
        "id": "x1lQQJzOQGbB",
        "outputId": "3955cd42-e9c0-49ce-b2c1-9a1966a34a85"
      },
      "outputs": [
        {
          "output_type": "stream",
          "name": "stdout",
          "text": [
            "Hello world\n"
          ]
        }
      ],
      "source": [
        "print(\"Hello world\")"
      ]
    },
    {
      "cell_type": "code",
      "source": [
        "x=\"안녕하세요,\"\n",
        "y=\"여러분!\"\n",
        "print(x+y)"
      ],
      "metadata": {
        "colab": {
          "base_uri": "https://localhost:8080/"
        },
        "id": "o8g_Xpz3QXwz",
        "outputId": "c82e3d8e-6e93-44fb-a959-a792298f1e1d"
      },
      "execution_count": 17,
      "outputs": [
        {
          "output_type": "stream",
          "name": "stdout",
          "text": [
            "안녕하세요,여러분!\n"
          ]
        }
      ]
    },
    {
      "cell_type": "code",
      "source": [
        "x= 2023\n",
        "print(\"새해는 %d년 입니다.\"%x)"
      ],
      "metadata": {
        "colab": {
          "base_uri": "https://localhost:8080/"
        },
        "id": "POVt9aWvRTrY",
        "outputId": "9bbab13a-642a-4e4c-a51b-20829f5a9931"
      },
      "execution_count": 16,
      "outputs": [
        {
          "output_type": "stream",
          "name": "stdout",
          "text": [
            "새해는 2023년 입니다.\n"
          ]
        }
      ]
    },
    {
      "cell_type": "code",
      "source": [
        "x=5; y=20\n",
        "print(\"새해는 저의 %d번째 %d살 입니다\"%(x,y))"
      ],
      "metadata": {
        "colab": {
          "base_uri": "https://localhost:8080/"
        },
        "id": "_Bi5Jyj_Rwd9",
        "outputId": "4338225f-7c3e-4645-fbae-7a7f3b2477f6"
      },
      "execution_count": 10,
      "outputs": [
        {
          "output_type": "stream",
          "name": "stdout",
          "text": [
            "새해는 저의 5번째 20살 입니다\n"
          ]
        }
      ]
    },
    {
      "cell_type": "code",
      "source": [
        "my_tuple=(20)\n",
        "age_tuple=(5)\n",
        "print(\"그렇습니다.저는\",my_tuple + age_tuple,\"살입니다.\")"
      ],
      "metadata": {
        "colab": {
          "base_uri": "https://localhost:8080/"
        },
        "id": "zIbt6dxBVuK6",
        "outputId": "615d1ea3-0b5e-436b-eae7-af7888354433"
      },
      "execution_count": 15,
      "outputs": [
        {
          "output_type": "stream",
          "name": "stdout",
          "text": [
            "그렇습니다.저는 25 살입니다.\n"
          ]
        }
      ]
    },
    {
      "cell_type": "code",
      "source": [
        "a={\"여러분\":\"새 해에는\",\"모두\":\"부자되세요!\"}\n",
        "print(a)"
      ],
      "metadata": {
        "colab": {
          "base_uri": "https://localhost:8080/"
        },
        "id": "9ij0zLRGZStb",
        "outputId": "794ee9a5-7983-4c1f-c3fd-6598a33d6011"
      },
      "execution_count": 36,
      "outputs": [
        {
          "output_type": "stream",
          "name": "stdout",
          "text": [
            "{'여러분': '새 해에는', '모두': '부자되세요!'}\n"
          ]
        }
      ]
    },
    {
      "cell_type": "code",
      "source": [
        "a.keys()"
      ],
      "metadata": {
        "colab": {
          "base_uri": "https://localhost:8080/"
        },
        "id": "d_yJ0jLydeeB",
        "outputId": "d7422e72-b7f4-43d0-ff4b-7caa37742b51"
      },
      "execution_count": 37,
      "outputs": [
        {
          "output_type": "execute_result",
          "data": {
            "text/plain": [
              "dict_keys(['여러분', '모두'])"
            ]
          },
          "metadata": {},
          "execution_count": 37
        }
      ]
    },
    {
      "cell_type": "code",
      "source": [
        "a.values()"
      ],
      "metadata": {
        "colab": {
          "base_uri": "https://localhost:8080/"
        },
        "id": "PQQgK8wNdguf",
        "outputId": "f7d54f3a-535b-4f17-b02a-945044b771fb"
      },
      "execution_count": 38,
      "outputs": [
        {
          "output_type": "execute_result",
          "data": {
            "text/plain": [
              "dict_values(['새 해에는', '부자되세요!'])"
            ]
          },
          "metadata": {},
          "execution_count": 38
        }
      ]
    },
    {
      "cell_type": "code",
      "source": [
        "print(\"건\\n강\\n하\\n세\\n요\\n!\")"
      ],
      "metadata": {
        "colab": {
          "base_uri": "https://localhost:8080/"
        },
        "id": "pXksTDmydoLA",
        "outputId": "59bcff3f-21e2-4820-bbb3-33c8a49714cf"
      },
      "execution_count": 39,
      "outputs": [
        {
          "output_type": "stream",
          "name": "stdout",
          "text": [
            "건\n",
            "강\n",
            "하\n",
            "세\n",
            "요\n",
            "!\n"
          ]
        }
      ]
    },
    {
      "cell_type": "code",
      "source": [
        "for i in range(10) :\n",
        "    print(\"♡\")"
      ],
      "metadata": {
        "colab": {
          "base_uri": "https://localhost:8080/"
        },
        "id": "xNit5Hcrej33",
        "outputId": "b2a88854-0e42-494c-cac4-03aca4c5f6c9"
      },
      "execution_count": 45,
      "outputs": [
        {
          "output_type": "stream",
          "name": "stdout",
          "text": [
            "♡\n",
            "♡\n",
            "♡\n",
            "♡\n",
            "♡\n",
            "♡\n",
            "♡\n",
            "♡\n",
            "♡\n",
            "♡\n"
          ]
        }
      ]
    },
    {
      "cell_type": "code",
      "source": [
        "a={\"지금까지\":\"영철맨\",\"도와조~\":\"였습니다\"}\n",
        "print(\"♡\"*23)\n",
        "print(a)\n",
        "print(\"♡\"*23)\n",
        "print(\"감사합니다_박영철/고영광/김유리/오현진\")"
      ],
      "metadata": {
        "colab": {
          "base_uri": "https://localhost:8080/"
        },
        "id": "mqYyrmVvhFOV",
        "outputId": "5bc01c01-4097-4b8f-dbfc-84f0f6afa278"
      },
      "execution_count": 49,
      "outputs": [
        {
          "output_type": "stream",
          "name": "stdout",
          "text": [
            "♡♡♡♡♡♡♡♡♡♡♡♡♡♡♡♡♡♡♡♡♡♡♡\n",
            "{'지금까지': '영철맨', '도와조~': '였습니다'}\n",
            "♡♡♡♡♡♡♡♡♡♡♡♡♡♡♡♡♡♡♡♡♡♡♡\n",
            "감사합니다_박영철/고영광/김유리/오현진\n"
          ]
        }
      ]
    }
  ]
}